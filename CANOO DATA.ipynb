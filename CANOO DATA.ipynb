{
 "cells": [
  {
   "cell_type": "code",
   "execution_count": null,
   "id": "39348ba0",
   "metadata": {},
   "outputs": [],
   "source": [
    "import requests\n",
    "from bs4 import BeautifulSoup\n",
    "import pandas as pd\n",
    "\n",
    "# Function to retrieve information from a given URL\n",
    "def get_info(url):\n",
    "    response = requests.get(url)\n",
    "    soup = BeautifulSoup(response.text, 'html.parser')\n",
    "    # Extract relevant information from the HTML using BeautifulSoup\n",
    "    # Modify this part based on the specific information you are looking for\n",
    "    # For example, you might want to find elements by class, id, etc.\n",
    "    company_name = soup.find('h1', class_='company-name').text.strip()\n",
    "    stock_price = soup.find('span', class_='stock-price').text.strip()\n",
    "\n",
    "    return {'Company Name': company_name, 'Stock Price': stock_price}\n",
    "\n",
    "# URLs for relevant information (modify as needed)\n",
    "nasdaq_url = 'https://www.nasdaq.com/market-activity/stocks/goev'\n",
    "other_source_url = 'https://www.someothersource.com'\n",
    "\n",
    "# Get information from NASDAQ\n",
    "nasdaq_info = get_info(nasdaq_url)\n",
    "\n",
    "# Get information from another source\n",
    "other_source_info = get_info(other_source_url)\n",
    "\n",
    "# Combine information into a DataFrame\n",
    "data = pd.DataFrame([nasdaq_info, other_source_info])\n",
    "\n",
    "# Save the data to a CSV file\n",
    "data.to_csv('canoo_info.csv', index=False)\n",
    "\n",
    "print('Data retrieved and stored in canoo_info.csv')"
   ]
  }
 ],
 "metadata": {
  "kernelspec": {
   "display_name": "Python 3 (ipykernel)",
   "language": "python",
   "name": "python3"
  },
  "language_info": {
   "codemirror_mode": {
    "name": "ipython",
    "version": 3
   },
   "file_extension": ".py",
   "mimetype": "text/x-python",
   "name": "python",
   "nbconvert_exporter": "python",
   "pygments_lexer": "ipython3",
   "version": "3.11.4"
  }
 },
 "nbformat": 4,
 "nbformat_minor": 5
}
